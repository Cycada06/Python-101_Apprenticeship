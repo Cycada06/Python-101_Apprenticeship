{
  "nbformat": 4,
  "nbformat_minor": 0,
  "metadata": {
    "colab": {
      "provenance": [],
      "authorship_tag": "ABX9TyPxzbo5f7f82y47ze4LRQv3",
      "include_colab_link": true
    },
    "kernelspec": {
      "name": "python3",
      "display_name": "Python 3"
    },
    "language_info": {
      "name": "python"
    }
  },
  "cells": [
    {
      "cell_type": "markdown",
      "metadata": {
        "id": "view-in-github",
        "colab_type": "text"
      },
      "source": [
        "<a href=\"https://colab.research.google.com/github/Cycada06/Python-101_Apprenticeship/blob/APN/Batch_Processing_Numbers_CSV.ipynb\" target=\"_parent\"><img src=\"https://colab.research.google.com/assets/colab-badge.svg\" alt=\"Open In Colab\"/></a>"
      ]
    },
    {
      "cell_type": "code",
      "source": [
        "import csv\n",
        "from google.colab import files\n",
        "\n",
        "# Function to read numbers from a CSV file\n",
        "def read_numbers_from_csv(file_path):\n",
        "    numbers = []\n",
        "    with open(file_path, 'r') as csv_file:\n",
        "        reader = csv.reader(csv_file)\n",
        "        for row in reader:\n",
        "            for number_str in row:\n",
        "                try:\n",
        "                    number = int(number_str.strip())  # Assuming numbers are integers in the file\n",
        "                    numbers.append(number)\n",
        "                except ValueError:\n",
        "                    pass  # Skip non-integer values\n",
        "    return numbers\n",
        "\n",
        "# Function to create batches of 10000 numbers\n",
        "def create_batches(numbers, batch_size):\n",
        "    batches = []\n",
        "    for i in range(0, len(numbers), batch_size):\n",
        "        batch = numbers[i:i + batch_size]\n",
        "        batches.append(batch)\n",
        "    return batches\n",
        "\n",
        "# Upload your CSV file to Colab first\n",
        "uploaded = files.upload()\n",
        "\n",
        "# Get the uploaded file name\n",
        "file_path = list(uploaded.keys())[0]\n",
        "batch_size = 10000\n",
        "\n",
        "numbers = read_numbers_from_csv(file_path)\n",
        "batches = create_batches(numbers, batch_size)\n",
        "\n",
        "# Define the header\n",
        "header = ['MSISDN']\n",
        "\n",
        "# Save each batch to a new CSV file with header\n",
        "for i, batch in enumerate(batches):\n",
        "    output_file_path = f'batch_{i+1}_output.csv'\n",
        "    with open(output_file_path, 'w', newline='') as csv_file:\n",
        "        writer = csv.writer(csv_file)\n",
        "        writer.writerow(header)  # Write the header\n",
        "        for number in batch:\n",
        "            writer.writerow([number])  # Write each number in a separate row\n",
        "\n",
        "    # Download each output CSV file\n",
        "    files.download(output_file_path)\n"
      ],
      "metadata": {
        "id": "ZYtQqe5RHMQr"
      },
      "execution_count": null,
      "outputs": []
    }
  ]
}
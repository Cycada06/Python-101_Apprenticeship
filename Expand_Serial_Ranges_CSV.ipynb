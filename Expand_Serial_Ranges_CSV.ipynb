{
  "nbformat": 4,
  "nbformat_minor": 0,
  "metadata": {
    "colab": {
      "provenance": [],
      "mount_file_id": "1Y1-mYHnIUR-Lak8vou77usM1gwQBvEmx",
      "authorship_tag": "ABX9TyNJFFxSwrAnkbjLzPSrrpwd",
      "include_colab_link": true
    },
    "kernelspec": {
      "name": "python3",
      "display_name": "Python 3"
    },
    "language_info": {
      "name": "python"
    }
  },
  "cells": [
    {
      "cell_type": "markdown",
      "metadata": {
        "id": "view-in-github",
        "colab_type": "text"
      },
      "source": [
        "<a href=\"https://colab.research.google.com/github/Cycada06/Python-101_Apprenticeship/blob/APN/Expand_Serial_Ranges_CSV.ipynb\" target=\"_parent\"><img src=\"https://colab.research.google.com/assets/colab-badge.svg\" alt=\"Open In Colab\"/></a>"
      ]
    },
    {
      "cell_type": "code",
      "source": [
        "# Import necessary libraries\n",
        "import csv\n",
        "from google.colab import files\n",
        "\n",
        "# Function to expand a serial range\n",
        "def expand_serial_range(serial_range):\n",
        "    start, end = map(int, serial_range.split('-'))\n",
        "    return list(range(start, end + 1))\n",
        "\n",
        "# Function to read CSV and expand all serial ranges\n",
        "def expand_serial_ranges(csv_file):\n",
        "    expanded_serials = []\n",
        "    with open(csv_file, newline='') as csvfile:\n",
        "        reader = csv.DictReader(csvfile)\n",
        "        for row in reader:\n",
        "            serial_range = row['serial_range']\n",
        "            expanded_serials.extend(expand_serial_range(serial_range))\n",
        "    return expanded_serials\n",
        "\n",
        "# Upload the CSV file\n",
        "uploaded = files.upload()\n",
        "\n",
        "# Assuming the uploaded file is 'serials.csv'\n",
        "csv_file = list(uploaded.keys())[0]\n",
        "\n",
        "# Expand serial ranges\n",
        "expanded_serials = expand_serial_ranges(csv_file)\n",
        "\n",
        "# Save the expanded serials to a new CSV file\n",
        "output_file = 'expanded_serials.csv'\n",
        "with open(output_file, mode='w', newline='') as file:\n",
        "    writer = csv.writer(file)\n",
        "    writer.writerow(['serial'])\n",
        "    for serial in expanded_serials:\n",
        "        writer.writerow([serial])\n",
        "\n",
        "# Download the new CSV file\n",
        "files.download(output_file)\n"
      ],
      "metadata": {
        "id": "ZXtaznvh9JN3"
      },
      "execution_count": null,
      "outputs": []
    }
  ]
}